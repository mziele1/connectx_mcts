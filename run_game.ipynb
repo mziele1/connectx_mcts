{
 "cells": [
  {
   "cell_type": "markdown",
   "id": "3a5357d5-04da-4e19-a3c3-573e5e3ff6bb",
   "metadata": {},
   "source": [
    "This notebook runs one game of connectx, using a Monte Carlo tree search agent for one player (blue) and a 3 turn lookahead agent for the other (grey)."
   ]
  },
  {
   "cell_type": "code",
   "execution_count": null,
   "id": "85dc0d5c-3238-4ced-9f7e-5d9f318397ba",
   "metadata": {},
   "outputs": [],
   "source": [
    "from kaggle_environments import make, evaluate, utils\n",
    "\n",
    "import lookahead_agent\n",
    "import mcts_agent"
   ]
  },
  {
   "cell_type": "markdown",
   "id": "d5366629-d3fc-4e40-9c7a-6837115f007d",
   "metadata": {},
   "source": [
    "To use the agent, call mcts_agent.mcts_agent and pass an observation and configuration, matching the format defined in the Kaggle competiton. By default, the agent will use multiprocessing.\n",
    "\n",
    "Single process and multi process agents can be called directly as mcts_agent.sp_mcts_agent and mcts_agent.mp_mcts_agent.\n",
    "\n",
    "The following cell shows how to use the agent, run one game of Connect X, and render a replay of the game."
   ]
  },
  {
   "cell_type": "code",
   "execution_count": null,
   "id": "a0e9f580-850f-4265-bfdb-59d11d20b3ae",
   "metadata": {},
   "outputs": [],
   "source": [
    "# run one game, can take a few minutes\n",
    "env = make(\"connectx\")\n",
    "res = env.run([\n",
    "    mcts_agent.mcts_agent,\n",
    "    lookahead_agent.three_lookahead_agent\n",
    "])\n",
    "env.render(mode=\"ipython\")"
   ]
  },
  {
   "cell_type": "code",
   "execution_count": null,
   "id": "030ac5cc-2ec5-4dcc-8a61-a87dffb507e1",
   "metadata": {},
   "outputs": [],
   "source": []
  }
 ],
 "metadata": {
  "kernelspec": {
   "display_name": "Python 3 (ipykernel)",
   "language": "python",
   "name": "python3"
  },
  "language_info": {
   "codemirror_mode": {
    "name": "ipython",
    "version": 3
   },
   "file_extension": ".py",
   "mimetype": "text/x-python",
   "name": "python",
   "nbconvert_exporter": "python",
   "pygments_lexer": "ipython3",
   "version": "3.7.11"
  }
 },
 "nbformat": 4,
 "nbformat_minor": 5
}
