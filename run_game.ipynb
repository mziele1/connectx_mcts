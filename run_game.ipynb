{
 "cells": [
  {
   "cell_type": "markdown",
   "id": "3a5357d5-04da-4e19-a3c3-573e5e3ff6bb",
   "metadata": {},
   "source": [
    "This notebook runs one game of connectx, using a Monte Carlo tree search agent for one player (blue) and a 3 turn lookahead agent for the other (grey)."
   ]
  },
  {
   "cell_type": "code",
   "execution_count": null,
   "id": "85dc0d5c-3238-4ced-9f7e-5d9f318397ba",
   "metadata": {
    "tags": []
   },
   "outputs": [],
   "source": [
    "from kaggle_environments import make, evaluate, utils\n",
    "import matplotlib.pyplot as plt\n",
    "\n",
    "import lookahead_agent\n",
    "import mcts_agent"
   ]
  },
  {
   "cell_type": "markdown",
   "id": "d5366629-d3fc-4e40-9c7a-6837115f007d",
   "metadata": {},
   "source": [
    "## Basic Usage\n",
    "To use the agent, call mcts_agent.mcts_agent and pass an observation and configuration, matching the format defined in the Kaggle competiton. By default, the agent will use multiprocessing.\n",
    "\n",
    "Single process and multi process agents can be called directly as mcts_agent.sp_mcts_agent and mcts_agent.mp_mcts_agent.\n",
    "\n",
    "The following cell shows how to use the agent, run one game of Connect X, and render a replay of the game."
   ]
  },
  {
   "cell_type": "code",
   "execution_count": null,
   "id": "a0e9f580-850f-4265-bfdb-59d11d20b3ae",
   "metadata": {},
   "outputs": [],
   "source": [
    "# run one game, can take a few minutes\n",
    "env = make(\"connectx\")\n",
    "res = env.run([\n",
    "    mcts_agent.mcts_agent,\n",
    "    lookahead_agent.three_lookahead_agent\n",
    "])\n",
    "env.render(mode=\"ipython\")"
   ]
  },
  {
   "cell_type": "markdown",
   "id": "02fc494e-1e9a-475e-afe0-2b937f605298",
   "metadata": {},
   "source": [
    "## Additional visualization\n",
    "It may be interesting to see how the MCTS agent thinks the game will end. We measure this using the results of the playouts during the agent's turn. Because the agent stores limited information from previous turns, we need to write a wrapper to capture this information each turn."
   ]
  },
  {
   "cell_type": "code",
   "execution_count": null,
   "id": "030ac5cc-2ec5-4dcc-8a61-a87dffb507e1",
   "metadata": {
    "tags": []
   },
   "outputs": [],
   "source": [
    "outcomes = {}\n",
    "def outcome_wrapper(obs, cfg):\n",
    "    action = mcts_agent.mcts_agent(obs, cfg)\n",
    "    if mcts_agent.mp_or_sp == \"sp\":\n",
    "        agent = mcts_agent.my_mcts\n",
    "    else:\n",
    "        agent = mcts_agent.my_mctss[0]\n",
    "    visits = agent.root.visits\n",
    "    turn_outcomes = agent.root.wins\n",
    "    wins = turn_outcomes[obs[\"mark\"]] / visits\n",
    "    losses = turn_outcomes[obs[\"mark\"]%2+1] / visits\n",
    "    ties = (visits - (turn_outcomes[obs[\"mark\"]] + turn_outcomes[obs[\"mark\"]%2+1])) / visits\n",
    "    outcomes[obs[\"step\"]] = [wins, losses, ties]\n",
    "    return action\n",
    "\n",
    "env = make(\"connectx\", debug=True)\n",
    "res = env.run([\n",
    "    outcome_wrapper,\n",
    "    lookahead_agent.three_lookahead_agent\n",
    "])\n",
    "env.render(mode=\"ipython\")"
   ]
  },
  {
   "cell_type": "code",
   "execution_count": null,
   "id": "2ea66334-4658-4644-93d3-6d6026a95ef7",
   "metadata": {
    "tags": []
   },
   "outputs": [],
   "source": [
    "turns = list(outcomes.keys())\n",
    "wins, losses, ties = zip(*outcomes.values())\n",
    "plt.plot(turns, wins, c=\"tab:green\", label=\"Agent\")\n",
    "plt.plot(turns, losses, c=\"tab:red\", label=\"Opponent\")\n",
    "plt.plot(turns, ties, c=\"tab:grey\", label=\"Tie\")\n",
    "plt.legend()\n",
    "plt.title(\"Expected result\")\n",
    "plt.xlabel(\"Turn\")\n",
    "plt.ylabel(\"Probability\")\n",
    "plt.grid()"
   ]
  },
  {
   "cell_type": "code",
   "execution_count": null,
   "id": "a6daf08e-ec84-4bf5-a82d-c2fd0600b320",
   "metadata": {},
   "outputs": [],
   "source": []
  }
 ],
 "metadata": {
  "kernelspec": {
   "display_name": "Python 3 (ipykernel)",
   "language": "python",
   "name": "python3"
  },
  "language_info": {
   "codemirror_mode": {
    "name": "ipython",
    "version": 3
   },
   "file_extension": ".py",
   "mimetype": "text/x-python",
   "name": "python",
   "nbconvert_exporter": "python",
   "pygments_lexer": "ipython3",
   "version": "3.7.16"
  }
 },
 "nbformat": 4,
 "nbformat_minor": 5
}
